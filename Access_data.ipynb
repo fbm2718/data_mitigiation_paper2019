{
 "cells": [
  {
   "cell_type": "markdown",
   "metadata": {},
   "source": [
    "# Precode"
   ]
  },
  {
   "cell_type": "markdown",
   "metadata": {},
   "source": [
    "Import packages "
   ]
  },
  {
   "cell_type": "code",
   "execution_count": 1,
   "metadata": {},
   "outputs": [],
   "source": [
    "import pickle\n",
    "import os\n",
    "import numpy as np"
   ]
  },
  {
   "cell_type": "markdown",
   "metadata": {},
   "source": [
    "Function to access files."
   ]
  },
  {
   "cell_type": "code",
   "execution_count": 2,
   "metadata": {},
   "outputs": [],
   "source": [
    "def data_access(name):\n",
    "    cwd=os.getcwd()\n",
    "    file_path=cwd+'/data/'+name\n",
    "    with open(file_path, 'rb') as filein:\n",
    "        data=pickle.load(filein)\n",
    "        \n",
    "    return data\n",
    "    \n",
    "    "
   ]
  },
  {
   "cell_type": "markdown",
   "metadata": {},
   "source": [
    "### Possible names of files:\n",
    "\n",
    "QDT_1q.pkl - data from single-qubit QDTs\n",
    "\n",
    "QDT_2q.pkl - data from two-qubit QDTs\n",
    "\n",
    "QST_1q.pkl - data from single-qubit QSTs\n",
    "\n",
    "QST_2q.pkl - data from two-qubit QSTs\n",
    "\n",
    "QPT_1q.pkl - data from single-qubit QPTs\n",
    "\n",
    "QMT.pkl - data from implementation of POVMs via Naimark's extension\n"
   ]
  },
  {
   "cell_type": "markdown",
   "metadata": {},
   "source": [
    "# Example"
   ]
  },
  {
   "cell_type": "markdown",
   "metadata": {},
   "source": [
    "## Open data for single-qubit QDT"
   ]
  },
  {
   "cell_type": "code",
   "execution_count": 3,
   "metadata": {},
   "outputs": [
    {
     "name": "stdout",
     "output_type": "stream",
     "text": [
      "description\n",
      "date\n",
      "qubits\n",
      "number_of_circuits\n",
      "number_of_shots\n",
      "POVMs_all\n",
      "POVMs_averaged\n"
     ]
    }
   ],
   "source": [
    "name_file='QDT_1q.pkl'\n",
    "data_QDT_1q=data_access(name_file)\n",
    "\n",
    "#exemplary dictionary (we're here adding dict elements to local variables)\n",
    "for key,value in data_QDT_1q.items():\n",
    "    locals().update({str(key):value})\n",
    "    print(key)"
   ]
  },
  {
   "cell_type": "markdown",
   "metadata": {},
   "source": [
    "### Keys:\n",
    "\n",
    "description - short description of data\n",
    "\n",
    "date - date of performing experiments\n",
    "\n",
    "qubits - used qubits\n",
    "\n",
    "number_of_circuits - number of repetitions of every experiment (to roughly estimate STDs)\n",
    "\n",
    "number_of_shots - number of implementation of every circuit (within every experiment)\n",
    "\n",
    "POVMs_all - all reconstructed POVMs. Format: list of lists. Convention: first index is a number of qubit, second index is a number of experiment (from repetitions 'number_of_circuits' times)\n",
    "\n",
    "POVMs_averaged - POVMs obtained from the merged statistics from previous list (i.e., since experiments were performed 'number_of_circuits', one may use all the statistics to reconstruct POVMs used later for error mitigation procedure)"
   ]
  },
  {
   "cell_type": "code",
   "execution_count": 4,
   "metadata": {},
   "outputs": [
    {
     "name": "stdout",
     "output_type": "stream",
     "text": [
      "description \n",
      " \n",
      "Single-qubit QDT on ibmqx4. \n",
      "Probe states: overcomplete Pauli's.  \n",
      "\n",
      "date \n",
      " 2019-04-28 \n",
      "\n",
      "qubits \n",
      " [0, 1, 2, 3, 4] \n",
      "\n",
      "number_of_circuits \n",
      " 4 \n",
      "\n",
      "number_of_shots \n",
      " 8192 \n",
      "\n"
     ]
    }
   ],
   "source": [
    "#exemplary data\n",
    "for key,value in data_QDT_1q.items():\n",
    "    #just descripting keys\n",
    "    if(key!='POVMs_all' and key!='POVMs_averaged'):\n",
    "        print(key,'\\n',value,'\\n')"
   ]
  },
  {
   "cell_type": "code",
   "execution_count": 5,
   "metadata": {},
   "outputs": [
    {
     "name": "stdout",
     "output_type": "stream",
     "text": [
      "qubit: 0\n",
      "[[0.963-0.j 0.004-0.j]\n",
      " [0.004+0.j 0.137-0.j]]\n",
      "[[ 0.037+0.j -0.004+0.j]\n",
      " [-0.004-0.j  0.863+0.j]]\n",
      "\n",
      "qubit: 1\n",
      "[[0.99 -0.j    0.002-0.001j]\n",
      " [0.002+0.001j 0.37 -0.j   ]]\n",
      "[[ 0.01 +0.j    -0.002+0.001j]\n",
      " [-0.002-0.001j  0.63 +0.j   ]]\n",
      "\n",
      "qubit: 2\n",
      "[[ 0.986-0.j -0.001-0.j]\n",
      " [-0.001+0.j  0.065+0.j]]\n",
      "[[0.014+0.j 0.001+0.j]\n",
      " [0.001-0.j 0.935+0.j]]\n",
      "\n",
      "qubit: 3\n",
      "[[0.919+0.j    0.003-0.003j]\n",
      " [0.003+0.003j 0.148+0.j   ]]\n",
      "[[ 0.081-0.j    -0.003+0.003j]\n",
      " [-0.003-0.003j  0.852+0.j   ]]\n",
      "\n",
      "qubit: 4\n",
      "[[0.98 -0.j    0.   -0.002j]\n",
      " [0.   +0.002j 0.155-0.j   ]]\n",
      "[[ 0.02 +0.j    -0.   +0.002j]\n",
      " [-0.   -0.002j  0.845+0.j   ]]\n",
      "\n"
     ]
    }
   ],
   "source": [
    "#exemplary POVMs\n",
    "for i in range(len(qubits)):\n",
    "    print('qubit:',qubits[i])\n",
    "    for Mi in POVMs_averaged[i]:\n",
    "        print(np.round(Mi,3))\n",
    "    print()"
   ]
  },
  {
   "cell_type": "markdown",
   "metadata": {},
   "source": [
    "### Data access\n",
    "Names of keys for different data should be self-explanatory"
   ]
  },
  {
   "cell_type": "code",
   "execution_count": 6,
   "metadata": {},
   "outputs": [
    {
     "name": "stdout",
     "output_type": "stream",
     "text": [
      "available keys:\n",
      "\n",
      "description\n",
      "date\n",
      "qubits\n",
      "number_of_circuits\n",
      "number_of_shots\n",
      "states_theory\n",
      "states_reconstructed\n",
      "\n",
      "description:\n",
      " \n",
      "        Single-qubit QST on ibmqx4. \n",
      "        Probe measurements: minimal Pauli's.  \n",
      "\n"
     ]
    }
   ],
   "source": [
    "#Change name here\n",
    "name_file='QST_1q.pkl'\n",
    "data=data_access(name_file)\n",
    "\n",
    "#adding values and dictionaries to local variables, print available keys. \n",
    "print('available keys:\\n')\n",
    "for key,value in data.items():\n",
    "    locals().update({str(key):value})\n",
    "    print(key)\n",
    "\n",
    "#print description\n",
    "print('\\ndescription:\\n',description,'\\n')"
   ]
  },
  {
   "cell_type": "code",
   "execution_count": null,
   "metadata": {},
   "outputs": [],
   "source": []
  },
  {
   "cell_type": "code",
   "execution_count": null,
   "metadata": {},
   "outputs": [],
   "source": []
  }
 ],
 "metadata": {
  "kernelspec": {
   "display_name": "Python 3",
   "language": "python",
   "name": "python3"
  },
  "language_info": {
   "codemirror_mode": {
    "name": "ipython",
    "version": 3
   },
   "file_extension": ".py",
   "mimetype": "text/x-python",
   "name": "python",
   "nbconvert_exporter": "python",
   "pygments_lexer": "ipython3",
   "version": "3.7.3"
  }
 },
 "nbformat": 4,
 "nbformat_minor": 2
}
